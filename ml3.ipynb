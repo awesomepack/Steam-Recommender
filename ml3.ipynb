{
 "cells": [
  {
   "cell_type": "code",
   "execution_count": null,
   "metadata": {},
   "outputs": [],
   "source": [
    "from sklearn.model_selection import train_test_split\n",
    "from sklearn.preprocessing import StandardScaler\n",
    "import pandas as pd\n",
    "import tensorflow as tf\n",
    "\n",
    "\n",
    "import pandas as pd \n",
    "application_df = pd.read_csv(\"csv\")\n",
    "application_df.head()"
   ]
  },
  {
   "cell_type": "code",
   "execution_count": null,
   "metadata": {},
   "outputs": [],
   "source": [
    "df3 = application_df.drop([''], axis=1)\n",
    "df3.head()"
   ]
  },
  {
   "cell_type": "code",
   "execution_count": null,
   "metadata": {},
   "outputs": [],
   "source": [
    "df3.shape"
   ]
  },
  {
   "cell_type": "code",
   "execution_count": null,
   "metadata": {},
   "outputs": [],
   "source": [
    "dummiesdf3 = pd.get_dummies(df3, columns=['column name'], drop_first=True, dtype=float)\n",
    "dummiesdf3.shape"
   ]
  },
  {
   "cell_type": "code",
   "execution_count": null,
   "metadata": {},
   "outputs": [],
   "source": [
    "dummiesdfx3 = dummiesdf3.drop('column', axis=1)\n",
    "dummiesdfx3.head()"
   ]
  },
  {
   "cell_type": "code",
   "execution_count": null,
   "metadata": {},
   "outputs": [],
   "source": [
    "dummiesdfy3 = dummiesdf3['column']\n",
    "dummiesdfy3"
   ]
  },
  {
   "cell_type": "code",
   "execution_count": null,
   "metadata": {},
   "outputs": [],
   "source": [
    "X3 = dummiesdfx3\n",
    "y3 = dummiesdfy3\n",
    "\n",
    "X3_train, X3_test, y3_train, y3_test = train_test_split(X3, y3, random_state = 50)"
   ]
  },
  {
   "cell_type": "code",
   "execution_count": null,
   "metadata": {},
   "outputs": [],
   "source": [
    "scaler = StandardScaler()\n",
    "\n",
    "X3_scaler = scaler.fit(X3_train)\n",
    "\n",
    "X3_train_scaled = X3_scaler.transform(X3_train)\n",
    "X3_test_scaled = X3_scaler.transform(X3_test)"
   ]
  },
  {
   "cell_type": "code",
   "execution_count": null,
   "metadata": {},
   "outputs": [],
   "source": [
    "def create_model(hp):\n",
    "    nn3 = tf.keras.models.Sequential()\n",
    "\n",
    "    activation = hp.Choice('activation',['relu','tanh','sigmoid'])\n",
    "\n",
    "    nn3.add(tf.keras.layers.Dense(units=hp.Int('first_units',\n",
    "            min_value=1,\n",
    "            max_value=50,\n",
    "            step=2\n",
    "            ), activation=activation, input_dim=28))\n",
    "    \n",
    "    for i in range(hp.Int('num_layers', 1, 6)):\n",
    "        nn3.add(tf.keras.layers.Dense(units=hp.Int('units_'+str(i),\n",
    "            min_value=1,\n",
    "            max_value=50,\n",
    "            step=2),\n",
    "            activation=activation))\n",
    "    \n",
    "    nn3.add(tf.keras.layers.Dense(units=1, activation=\"sigmoid\"))\n",
    "\n",
    "    nn3.compile(loss=\"binary_crossentropy\", optimizer='adam', metrics=[\"accuracy\"])\n",
    "\n",
    "    return nn3"
   ]
  },
  {
   "cell_type": "code",
   "execution_count": null,
   "metadata": {},
   "outputs": [],
   "source": [
    "import kerastuner as kt\n",
    "tuner = kt.Hyperband(\n",
    "    create_model,\n",
    "    objective=\"val_accuracy\",\n",
    "    max_epochs=20,\n",
    "    hyperband_iterations=2)"
   ]
  },
  {
   "cell_type": "code",
   "execution_count": null,
   "metadata": {},
   "outputs": [],
   "source": [
    "tuner.search(X3_train_scaled,y3_train,epochs=50,validation_data=(X3_test_scaled,y3_test))"
   ]
  },
  {
   "cell_type": "code",
   "execution_count": null,
   "metadata": {},
   "outputs": [],
   "source": [
    "best_hyper = tuner.get_best_hyperparameters(1)[0]\n",
    "best_hyper.values"
   ]
  },
  {
   "cell_type": "code",
   "execution_count": null,
   "metadata": {},
   "outputs": [],
   "source": [
    "best_model = tuner.get_best_models(1)[0]\n",
    "model_loss, model_accuracy = best_model.evaluate(X3_test_scaled,y3_test,verbose=2)\n",
    "print(f\"Loss: {model_loss}, Accuracy: {model_accuracy}\")"
   ]
  }
 ],
 "metadata": {
  "language_info": {
   "name": "python"
  },
  "orig_nbformat": 4
 },
 "nbformat": 4,
 "nbformat_minor": 2
}
