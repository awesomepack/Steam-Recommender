{
  "cells": [
    {
      "cell_type": "markdown",
      "metadata": {},
      "source": [
        "# Source\n",
        "\n",
        "Originally from a project by [enriqueav](https://github.com/enriqueav), at [GitHub](https://github.com/enriqueav/MetacriticUserscore)"
      ]
    },
    {
      "cell_type": "markdown",
      "metadata": {
        "colab_type": "text",
        "id": "6Uc54wH3vVv9"
      },
      "source": [
        "# Predicting the user score of Metacritic user reviews of Video Games using Keras functional API and Tensorflow.\n",
        "\n",
        "\n",
        "~~Can we predict the score given to a Video Game based on the user review posted in Metacritic? In this post we are going to use Kera's functional API and Tensorflow backend to try to achieve this task.~~\n",
        "\n",
        "~~We are going to be using [this amazing kaggle dataset ](https://www.kaggle.com/dahlia25/metacritic-video-game-comments/) which includes the metascore (the one derived from professional reviews) and the user comments (or reviews) for the top 5000 games.~~"
      ]
    },
    {
      "cell_type": "code",
      "execution_count": 1,
      "metadata": {
        "colab": {
          "base_uri": "https://localhost:8080/",
          "height": 102
        },
        "colab_type": "code",
        "id": "nOHXaHZ2zM2C",
        "outputId": "116fc045-5227-43e4-8576-e1600d7730dd"
      },
      "outputs": [],
      "source": [
        "# # Install the latest version of TensorFlow\n",
        "# !pip install -q -U tensorflow==1.7.0"
      ]
    },
    {
      "cell_type": "code",
      "execution_count": 2,
      "metadata": {
        "colab": {
          "base_uri": "https://localhost:8080/",
          "height": 34
        },
        "colab_type": "code",
        "id": "1BVI1ZbZ6INM",
        "outputId": "97b76498-f98a-45e1-a84f-b6a64b813932"
      },
      "outputs": [
        {
          "name": "stderr",
          "output_type": "stream",
          "text": [
            "C:\\Users\\Jason\\anaconda3\\envs\\PythonData\\lib\\site-packages\\tensorflow\\python\\framework\\dtypes.py:516: FutureWarning: Passing (type, 1) or '1type' as a synonym of type is deprecated; in a future version of numpy, it will be understood as (type, (1,)) / '(1,)type'.\n",
            "  _np_qint8 = np.dtype([(\"qint8\", np.int8, 1)])\n",
            "C:\\Users\\Jason\\anaconda3\\envs\\PythonData\\lib\\site-packages\\tensorflow\\python\\framework\\dtypes.py:517: FutureWarning: Passing (type, 1) or '1type' as a synonym of type is deprecated; in a future version of numpy, it will be understood as (type, (1,)) / '(1,)type'.\n",
            "  _np_quint8 = np.dtype([(\"quint8\", np.uint8, 1)])\n",
            "C:\\Users\\Jason\\anaconda3\\envs\\PythonData\\lib\\site-packages\\tensorflow\\python\\framework\\dtypes.py:518: FutureWarning: Passing (type, 1) or '1type' as a synonym of type is deprecated; in a future version of numpy, it will be understood as (type, (1,)) / '(1,)type'.\n",
            "  _np_qint16 = np.dtype([(\"qint16\", np.int16, 1)])\n",
            "C:\\Users\\Jason\\anaconda3\\envs\\PythonData\\lib\\site-packages\\tensorflow\\python\\framework\\dtypes.py:519: FutureWarning: Passing (type, 1) or '1type' as a synonym of type is deprecated; in a future version of numpy, it will be understood as (type, (1,)) / '(1,)type'.\n",
            "  _np_quint16 = np.dtype([(\"quint16\", np.uint16, 1)])\n",
            "C:\\Users\\Jason\\anaconda3\\envs\\PythonData\\lib\\site-packages\\tensorflow\\python\\framework\\dtypes.py:520: FutureWarning: Passing (type, 1) or '1type' as a synonym of type is deprecated; in a future version of numpy, it will be understood as (type, (1,)) / '(1,)type'.\n",
            "  _np_qint32 = np.dtype([(\"qint32\", np.int32, 1)])\n",
            "C:\\Users\\Jason\\anaconda3\\envs\\PythonData\\lib\\site-packages\\tensorflow\\python\\framework\\dtypes.py:525: FutureWarning: Passing (type, 1) or '1type' as a synonym of type is deprecated; in a future version of numpy, it will be understood as (type, (1,)) / '(1,)type'.\n",
            "  np_resource = np.dtype([(\"resource\", np.ubyte, 1)])\n"
          ]
        },
        {
          "name": "stdout",
          "output_type": "stream",
          "text": [
            "You have TensorFlow version 1.14.0\n"
          ]
        },
        {
          "name": "stderr",
          "output_type": "stream",
          "text": [
            "C:\\Users\\Jason\\anaconda3\\envs\\PythonData\\lib\\site-packages\\tensorboard\\compat\\tensorflow_stub\\dtypes.py:541: FutureWarning: Passing (type, 1) or '1type' as a synonym of type is deprecated; in a future version of numpy, it will be understood as (type, (1,)) / '(1,)type'.\n",
            "  _np_qint8 = np.dtype([(\"qint8\", np.int8, 1)])\n",
            "C:\\Users\\Jason\\anaconda3\\envs\\PythonData\\lib\\site-packages\\tensorboard\\compat\\tensorflow_stub\\dtypes.py:542: FutureWarning: Passing (type, 1) or '1type' as a synonym of type is deprecated; in a future version of numpy, it will be understood as (type, (1,)) / '(1,)type'.\n",
            "  _np_quint8 = np.dtype([(\"quint8\", np.uint8, 1)])\n",
            "C:\\Users\\Jason\\anaconda3\\envs\\PythonData\\lib\\site-packages\\tensorboard\\compat\\tensorflow_stub\\dtypes.py:543: FutureWarning: Passing (type, 1) or '1type' as a synonym of type is deprecated; in a future version of numpy, it will be understood as (type, (1,)) / '(1,)type'.\n",
            "  _np_qint16 = np.dtype([(\"qint16\", np.int16, 1)])\n",
            "C:\\Users\\Jason\\anaconda3\\envs\\PythonData\\lib\\site-packages\\tensorboard\\compat\\tensorflow_stub\\dtypes.py:544: FutureWarning: Passing (type, 1) or '1type' as a synonym of type is deprecated; in a future version of numpy, it will be understood as (type, (1,)) / '(1,)type'.\n",
            "  _np_quint16 = np.dtype([(\"quint16\", np.uint16, 1)])\n",
            "C:\\Users\\Jason\\anaconda3\\envs\\PythonData\\lib\\site-packages\\tensorboard\\compat\\tensorflow_stub\\dtypes.py:545: FutureWarning: Passing (type, 1) or '1type' as a synonym of type is deprecated; in a future version of numpy, it will be understood as (type, (1,)) / '(1,)type'.\n",
            "  _np_qint32 = np.dtype([(\"qint32\", np.int32, 1)])\n",
            "C:\\Users\\Jason\\anaconda3\\envs\\PythonData\\lib\\site-packages\\tensorboard\\compat\\tensorflow_stub\\dtypes.py:550: FutureWarning: Passing (type, 1) or '1type' as a synonym of type is deprecated; in a future version of numpy, it will be understood as (type, (1,)) / '(1,)type'.\n",
            "  np_resource = np.dtype([(\"resource\", np.ubyte, 1)])\n"
          ]
        }
      ],
      "source": [
        "import pandas as pd\n",
        "import tensorflow as tf\n",
        "\n",
        "from tensorflow import keras\n",
        "layers = keras.layers\n",
        "\n",
        "# This code was tested with TensorFlow v1.7\n",
        "print(\"You have TensorFlow version\", tf.__version__)"
      ]
    },
    {
      "cell_type": "markdown",
      "metadata": {
        "colab_type": "text",
        "id": "FTMwk7riKqEM"
      },
      "source": [
        "Then we use Pandas to read the csv and transform it into a dataframe. After that we do some processing."
      ]
    },
    {
      "cell_type": "code",
      "execution_count": 4,
      "metadata": {},
      "outputs": [
        {
          "data": {
            "text/html": [
              "<div>\n",
              "<style scoped>\n",
              "    .dataframe tbody tr th:only-of-type {\n",
              "        vertical-align: middle;\n",
              "    }\n",
              "\n",
              "    .dataframe tbody tr th {\n",
              "        vertical-align: top;\n",
              "    }\n",
              "\n",
              "    .dataframe thead th {\n",
              "        text-align: right;\n",
              "    }\n",
              "</style>\n",
              "<table border=\"1\" class=\"dataframe\">\n",
              "  <thead>\n",
              "    <tr style=\"text-align: right;\">\n",
              "      <th></th>\n",
              "      <th>metacritic_score</th>\n",
              "      <th>appid</th>\n",
              "      <th>detailed_description</th>\n",
              "      <th>about_the_game</th>\n",
              "      <th>short_description</th>\n",
              "    </tr>\n",
              "    <tr>\n",
              "      <th>name</th>\n",
              "      <th></th>\n",
              "      <th></th>\n",
              "      <th></th>\n",
              "      <th></th>\n",
              "      <th></th>\n",
              "    </tr>\n",
              "  </thead>\n",
              "  <tbody>\n",
              "    <tr>\n",
              "      <th>tom clancy's splinter cell chaos theory</th>\n",
              "      <td>94</td>\n",
              "      <td>13570</td>\n",
              "      <td>The year is 2008.&lt;br&gt;\\t\\t\\t\\t\\tCitywide blacko...</td>\n",
              "      <td>The year is 2008.&lt;br&gt;\\t\\t\\t\\t\\tCitywide blacko...</td>\n",
              "      <td>The year is 2008. Citywide blackouts ... stock...</td>\n",
              "    </tr>\n",
              "    <tr>\n",
              "      <th>tom clancy's splinter cell chaos theory</th>\n",
              "      <td>87</td>\n",
              "      <td>13570</td>\n",
              "      <td>The year is 2008.&lt;br&gt;\\t\\t\\t\\t\\tCitywide blacko...</td>\n",
              "      <td>The year is 2008.&lt;br&gt;\\t\\t\\t\\t\\tCitywide blacko...</td>\n",
              "      <td>The year is 2008. Citywide blackouts ... stock...</td>\n",
              "    </tr>\n",
              "  </tbody>\n",
              "</table>\n",
              "</div>"
            ],
            "text/plain": [
              "                                         metacritic_score  appid  \\\n",
              "name                                                               \n",
              "tom clancy's splinter cell chaos theory                94  13570   \n",
              "tom clancy's splinter cell chaos theory                87  13570   \n",
              "\n",
              "                                                                      detailed_description  \\\n",
              "name                                                                                         \n",
              "tom clancy's splinter cell chaos theory  The year is 2008.<br>\\t\\t\\t\\t\\tCitywide blacko...   \n",
              "tom clancy's splinter cell chaos theory  The year is 2008.<br>\\t\\t\\t\\t\\tCitywide blacko...   \n",
              "\n",
              "                                                                            about_the_game  \\\n",
              "name                                                                                         \n",
              "tom clancy's splinter cell chaos theory  The year is 2008.<br>\\t\\t\\t\\t\\tCitywide blacko...   \n",
              "tom clancy's splinter cell chaos theory  The year is 2008.<br>\\t\\t\\t\\t\\tCitywide blacko...   \n",
              "\n",
              "                                                                         short_description  \n",
              "name                                                                                        \n",
              "tom clancy's splinter cell chaos theory  The year is 2008. Citywide blackouts ... stock...  \n",
              "tom clancy's splinter cell chaos theory  The year is 2008. Citywide blackouts ... stock...  "
            ]
          },
          "execution_count": 4,
          "metadata": {},
          "output_type": "execute_result"
        }
      ],
      "source": [
        "# Convert the data to a Pandas data frame\n",
        "metascores = pd.read_csv('../data/metacritic_data.csv').infer_objects()\n",
        "applist = pd.read_csv('../data/app_list.csv').set_index('appid')\n",
        "descriptions = pd.read_csv('../data/steam_description_data.csv').join(applist, on='appid')\n",
        "descriptions['name'] = descriptions['name'].astype(str).apply(str.lower)\n",
        "descriptions = descriptions.drop_duplicates(subset='name').set_index('name')\n",
        "metascores['name'] = metascores['name'].astype(str).apply(str.lower)\n",
        "metascores = metascores.set_index('name')\n",
        "df1 = metascores.join(descriptions, on='name', how='inner')\n",
        "y_col = 'metacritic_score'\n",
        "X_cols = ['detailed_description', 'about_the_game', 'short_description']\n",
        "X_col = X_cols[2]\n",
        "\n",
        "df1.head(2)"
      ]
    },
    {
      "cell_type": "code",
      "execution_count": 5,
      "metadata": {},
      "outputs": [],
      "source": [
        "# Shuffle with a fixed random seed\n",
        "# This will help us to have the same training and test set every time\n",
        "df1 = df1.sample(frac=1, random_state=387)\n",
        "\n",
        "df2 = df1.reset_index().drop_duplicates('name').set_index('name')\n",
        "\n",
        "df = df2\n"
      ]
    },
    {
      "cell_type": "code",
      "execution_count": 6,
      "metadata": {
        "colab": {
          "base_uri": "https://localhost:8080/",
          "height": 323
        },
        "colab_type": "code",
        "id": "-w8L_AV46gqv",
        "outputId": "daf9698d-6df9-412f-ba68-bec1b9f3c7f7"
      },
      "outputs": [
        {
          "name": "stdout",
          "output_type": "stream",
          "text": [
            "metacritic_score        3325\n",
            "appid                   3325\n",
            "detailed_description    3325\n",
            "about_the_game          3325\n",
            "short_description       3325\n",
            "dtype: int64\n"
          ]
        },
        {
          "data": {
            "text/html": [
              "<div>\n",
              "<style scoped>\n",
              "    .dataframe tbody tr th:only-of-type {\n",
              "        vertical-align: middle;\n",
              "    }\n",
              "\n",
              "    .dataframe tbody tr th {\n",
              "        vertical-align: top;\n",
              "    }\n",
              "\n",
              "    .dataframe thead th {\n",
              "        text-align: right;\n",
              "    }\n",
              "</style>\n",
              "<table border=\"1\" class=\"dataframe\">\n",
              "  <thead>\n",
              "    <tr style=\"text-align: right;\">\n",
              "      <th></th>\n",
              "      <th>metacritic_score</th>\n",
              "      <th>appid</th>\n",
              "      <th>detailed_description</th>\n",
              "      <th>about_the_game</th>\n",
              "      <th>short_description</th>\n",
              "    </tr>\n",
              "    <tr>\n",
              "      <th>name</th>\n",
              "      <th></th>\n",
              "      <th></th>\n",
              "      <th></th>\n",
              "      <th></th>\n",
              "      <th></th>\n",
              "    </tr>\n",
              "  </thead>\n",
              "  <tbody>\n",
              "    <tr>\n",
              "      <th>remilore: lost girl in the lands of lore</th>\n",
              "      <td>61</td>\n",
              "      <td>995240</td>\n",
              "      <td>RemiLore: Lost Girl in the Lands of Lore is a ...</td>\n",
              "      <td>RemiLore: Lost Girl in the Lands of Lore is a ...</td>\n",
              "      <td>RemiLore: Lost Girl in the Lands of Lore is a ...</td>\n",
              "    </tr>\n",
              "    <tr>\n",
              "      <th>mordhau</th>\n",
              "      <td>81</td>\n",
              "      <td>629760</td>\n",
              "      <td>&lt;strong&gt;MORDHAU&lt;/strong&gt; is a medieval first &amp;...</td>\n",
              "      <td>&lt;strong&gt;MORDHAU&lt;/strong&gt; is a medieval first &amp;...</td>\n",
              "      <td>MORDHAU is a multiplayer medieval slasher. Cre...</td>\n",
              "    </tr>\n",
              "    <tr>\n",
              "      <th>primordia</th>\n",
              "      <td>72</td>\n",
              "      <td>227000</td>\n",
              "      <td>What Happened to the Humans?&lt;br&gt;&lt;br&gt;Set in a p...</td>\n",
              "      <td>What Happened to the Humans?&lt;br&gt;&lt;br&gt;Set in a p...</td>\n",
              "      <td>Life has ceased. Man is but a myth. And now, e...</td>\n",
              "    </tr>\n",
              "    <tr>\n",
              "      <th>afterparty</th>\n",
              "      <td>75</td>\n",
              "      <td>762220</td>\n",
              "      <td>&lt;h1&gt;Coming Soon From Night School Studio&lt;/h1&gt;&lt;...</td>\n",
              "      <td>In Afterparty, you are Milo and Lola, recently...</td>\n",
              "      <td>In Afterparty, you are Milo and Lola, recently...</td>\n",
              "    </tr>\n",
              "    <tr>\n",
              "      <th>wolfenstein ii: the new colossus</th>\n",
              "      <td>88</td>\n",
              "      <td>612880</td>\n",
              "      <td>&lt;h1&gt;Accolades&lt;/h1&gt;&lt;p&gt;&lt;img src=\"https://cdn.clo...</td>\n",
              "      <td>Wolfenstein® II: The New Colossus™ is the high...</td>\n",
              "      <td>America, 1961. The assassination of Nazi Gener...</td>\n",
              "    </tr>\n",
              "  </tbody>\n",
              "</table>\n",
              "</div>"
            ],
            "text/plain": [
              "                                          metacritic_score   appid  \\\n",
              "name                                                                 \n",
              "remilore: lost girl in the lands of lore                61  995240   \n",
              "mordhau                                                 81  629760   \n",
              "primordia                                               72  227000   \n",
              "afterparty                                              75  762220   \n",
              "wolfenstein ii: the new colossus                        88  612880   \n",
              "\n",
              "                                                                       detailed_description  \\\n",
              "name                                                                                          \n",
              "remilore: lost girl in the lands of lore  RemiLore: Lost Girl in the Lands of Lore is a ...   \n",
              "mordhau                                   <strong>MORDHAU</strong> is a medieval first &...   \n",
              "primordia                                 What Happened to the Humans?<br><br>Set in a p...   \n",
              "afterparty                                <h1>Coming Soon From Night School Studio</h1><...   \n",
              "wolfenstein ii: the new colossus          <h1>Accolades</h1><p><img src=\"https://cdn.clo...   \n",
              "\n",
              "                                                                             about_the_game  \\\n",
              "name                                                                                          \n",
              "remilore: lost girl in the lands of lore  RemiLore: Lost Girl in the Lands of Lore is a ...   \n",
              "mordhau                                   <strong>MORDHAU</strong> is a medieval first &...   \n",
              "primordia                                 What Happened to the Humans?<br><br>Set in a p...   \n",
              "afterparty                                In Afterparty, you are Milo and Lola, recently...   \n",
              "wolfenstein ii: the new colossus          Wolfenstein® II: The New Colossus™ is the high...   \n",
              "\n",
              "                                                                          short_description  \n",
              "name                                                                                         \n",
              "remilore: lost girl in the lands of lore  RemiLore: Lost Girl in the Lands of Lore is a ...  \n",
              "mordhau                                   MORDHAU is a multiplayer medieval slasher. Cre...  \n",
              "primordia                                 Life has ceased. Man is but a myth. And now, e...  \n",
              "afterparty                                In Afterparty, you are Milo and Lola, recently...  \n",
              "wolfenstein ii: the new colossus          America, 1961. The assassination of Nazi Gener...  "
            ]
          },
          "execution_count": 6,
          "metadata": {},
          "output_type": "execute_result"
        }
      ],
      "source": [
        "\n",
        "# Drop comments with less than 200 characters\n",
        "# Modify this parameter to obtain different results\n",
        "# comments = comments[comments['Comment'].str.len() > 200]\n",
        "# # Print the first 5 rows\n",
        "# print(comments.count())\n",
        "# print(comments.head())\n",
        "print(df.count())\n",
        "df.head()"
      ]
    },
    {
      "cell_type": "markdown",
      "metadata": {
        "colab_type": "text",
        "id": "xoRbSxx4LFkg"
      },
      "source": [
        "Then we split the dataset in train and test sets. Since we used a constant random seed, this will return the same result every time."
      ]
    },
    {
      "cell_type": "code",
      "execution_count": 7,
      "metadata": {
        "colab": {
          "base_uri": "https://localhost:8080/",
          "height": 51
        },
        "colab_type": "code",
        "id": "ZpKjFb_f-WxY",
        "outputId": "f94114f5-7fb7-45b2-9ddb-c2c85c548468"
      },
      "outputs": [
        {
          "name": "stdout",
          "output_type": "stream",
          "text": [
            "Train size: 2660\n",
            "Test size: 665\n"
          ]
        }
      ],
      "source": [
        "# Split data into train and test\n",
        "train_size = int(len(df) * .8)\n",
        "print (\"Train size: %d\" % train_size)\n",
        "print (\"Test size: %d\" % (len(df) - train_size))\n",
        "\n",
        "# Train features\n",
        "comments_train = df[X_col][:train_size]\n",
        "# Train labels\n",
        "labels_train = df[y_col][:train_size]\n",
        "# Test features\n",
        "comments_test = df[X_col][train_size:]\n",
        "# Test labels\n",
        "labels_test = df[y_col][train_size:]"
      ]
    },
    {
      "cell_type": "markdown",
      "metadata": {
        "colab_type": "text",
        "id": "VgLa3cqILP5n"
      },
      "source": [
        "We define a keras Tokenizer, and we fit it with the train set."
      ]
    },
    {
      "cell_type": "code",
      "execution_count": 8,
      "metadata": {
        "colab": {},
        "colab_type": "code",
        "id": "NThOL96A-vkb"
      },
      "outputs": [
        {
          "data": {
            "text/plain": [
              "12252"
            ]
          },
          "execution_count": 8,
          "metadata": {},
          "output_type": "execute_result"
        }
      ],
      "source": [
        "# Create a tokenizer to preprocess our text descriptions\n",
        "vocab_size = 12000 # This is a hyperparameter, experiment with different values for your dataset\n",
        "tokenize = keras.preprocessing.text.Tokenizer(num_words=vocab_size, char_level=False)\n",
        "tokenize.fit_on_texts(comments_train) # only fit on train\n",
        "len(tokenize.word_counts)"
      ]
    },
    {
      "cell_type": "markdown",
      "metadata": {
        "colab_type": "text",
        "id": "hcBSMlvv0PRl"
      },
      "source": [
        "Now we are going to create the Keras models.\n",
        "\n",
        "First we define the \"***wide***\" model. That will take a bag of words. "
      ]
    },
    {
      "cell_type": "code",
      "execution_count": 9,
      "metadata": {
        "colab": {
          "base_uri": "https://localhost:8080/",
          "height": 289
        },
        "colab_type": "code",
        "id": "i4KPvNdaC0tY",
        "outputId": "a0a21e72-0207-4b7a-e75d-13955c85722d"
      },
      "outputs": [
        {
          "name": "stdout",
          "output_type": "stream",
          "text": [
            "WARNING:tensorflow:From C:\\Users\\Jason\\anaconda3\\envs\\PythonData\\lib\\site-packages\\tensorflow\\python\\ops\\init_ops.py:1251: calling VarianceScaling.__init__ (from tensorflow.python.ops.init_ops) with dtype is deprecated and will be removed in a future version.\n",
            "Instructions for updating:\n",
            "Call initializer instance with the dtype argument instead of passing it to the constructor\n",
            "Model: \"model\"\n",
            "_________________________________________________________________\n",
            "Layer (type)                 Output Shape              Param #   \n",
            "=================================================================\n",
            "input_1 (InputLayer)         [(None, 12000)]           0         \n",
            "_________________________________________________________________\n",
            "dense (Dense)                (None, 256)               3072256   \n",
            "_________________________________________________________________\n",
            "dropout (Dropout)            (None, 256)               0         \n",
            "_________________________________________________________________\n",
            "dense_1 (Dense)              (None, 1)                 257       \n",
            "=================================================================\n",
            "Total params: 3,072,513\n",
            "Trainable params: 3,072,513\n",
            "Non-trainable params: 0\n",
            "_________________________________________________________________\n",
            "None\n"
          ]
        }
      ],
      "source": [
        "# Define our wide model with the functional API\n",
        "bow_inputs = layers.Input(shape=(vocab_size,))\n",
        "inter = layers.Dense(256, activation='relu')(bow_inputs)\n",
        "inter = layers.Dropout(0.3)(inter)\n",
        "predictions = layers.Dense(1, activation='linear')(inter)\n",
        "wide_model = keras.Model(inputs=bow_inputs, outputs=predictions)\n",
        "wide_model.compile(loss='mse', optimizer='adam', metrics=['mse'])\n",
        "print(wide_model.summary())"
      ]
    },
    {
      "cell_type": "markdown",
      "metadata": {
        "colab_type": "text",
        "id": "b9MV-FPv0mhZ"
      },
      "source": [
        "Next we define the second model, which is the \"***deep***\" model, that will take the sequences of words and pass them to a Embedding layer"
      ]
    },
    {
      "cell_type": "code",
      "execution_count": 10,
      "metadata": {
        "colab": {
          "base_uri": "https://localhost:8080/",
          "height": 357
        },
        "colab_type": "code",
        "id": "V0k7AEuk_IGC",
        "outputId": "1c745082-2fe0-418d-ce7d-3dd7a80db3b3"
      },
      "outputs": [
        {
          "name": "stdout",
          "output_type": "stream",
          "text": [
            "WARNING:tensorflow:From C:\\Users\\Jason\\anaconda3\\envs\\PythonData\\lib\\site-packages\\tensorflow\\python\\keras\\initializers.py:119: calling RandomUniform.__init__ (from tensorflow.python.ops.init_ops) with dtype is deprecated and will be removed in a future version.\n",
            "Instructions for updating:\n",
            "Call initializer instance with the dtype argument instead of passing it to the constructor\n",
            "Model: \"model_1\"\n",
            "_________________________________________________________________\n",
            "Layer (type)                 Output Shape              Param #   \n",
            "=================================================================\n",
            "input_2 (InputLayer)         [(None, 200)]             0         \n",
            "_________________________________________________________________\n",
            "embedding (Embedding)        (None, 200, 16)           192000    \n",
            "_________________________________________________________________\n",
            "flatten (Flatten)            (None, 3200)              0         \n",
            "_________________________________________________________________\n",
            "dense_2 (Dense)              (None, 64)                204864    \n",
            "_________________________________________________________________\n",
            "dropout_1 (Dropout)          (None, 64)                0         \n",
            "_________________________________________________________________\n",
            "dense_3 (Dense)              (None, 1)                 65        \n",
            "=================================================================\n",
            "Total params: 396,929\n",
            "Trainable params: 396,929\n",
            "Non-trainable params: 0\n",
            "_________________________________________________________________\n",
            "None\n"
          ]
        }
      ],
      "source": [
        "max_seq_length = 200\n",
        "\n",
        "# Define our deep model with the Functional API\n",
        "deep_inputs = layers.Input(shape=(max_seq_length,))\n",
        "embedding = layers.Embedding(vocab_size, 16, input_length=max_seq_length)(deep_inputs)\n",
        "embedding = layers.Flatten()(embedding)\n",
        "embedding = layers.Dense(64, activation='relu')(embedding)\n",
        "embedding = layers.Dropout(0.3)(embedding)\n",
        "embed_out = layers.Dense(1, activation='linear')(embedding)\n",
        "deep_model = keras.Model(inputs=deep_inputs, outputs=embed_out)\n",
        "deep_model.compile(loss='mse',\n",
        "                   optimizer='adam',\n",
        "                   metrics=['mse'])\n",
        "print(deep_model.summary())"
      ]
    },
    {
      "cell_type": "markdown",
      "metadata": {
        "colab_type": "text",
        "id": "bHfMpY3r1Qch"
      },
      "source": [
        "Then we combine both models using Keras functional API"
      ]
    },
    {
      "cell_type": "code",
      "execution_count": 11,
      "metadata": {
        "colab": {
          "base_uri": "https://localhost:8080/",
          "height": 646
        },
        "colab_type": "code",
        "id": "0iTr2ynpGFwS",
        "outputId": "fe3644e2-7d29-4fc4-9cbb-edfe34ff4b14"
      },
      "outputs": [
        {
          "name": "stdout",
          "output_type": "stream",
          "text": [
            "Model: \"model_2\"\n",
            "__________________________________________________________________________________________________\n",
            "Layer (type)                    Output Shape         Param #     Connected to                     \n",
            "==================================================================================================\n",
            "input_2 (InputLayer)            [(None, 200)]        0                                            \n",
            "__________________________________________________________________________________________________\n",
            "embedding (Embedding)           (None, 200, 16)      192000      input_2[0][0]                    \n",
            "__________________________________________________________________________________________________\n",
            "input_1 (InputLayer)            [(None, 12000)]      0                                            \n",
            "__________________________________________________________________________________________________\n",
            "flatten (Flatten)               (None, 3200)         0           embedding[0][0]                  \n",
            "__________________________________________________________________________________________________\n",
            "dense (Dense)                   (None, 256)          3072256     input_1[0][0]                    \n",
            "__________________________________________________________________________________________________\n",
            "dense_2 (Dense)                 (None, 64)           204864      flatten[0][0]                    \n",
            "__________________________________________________________________________________________________\n",
            "dropout (Dropout)               (None, 256)          0           dense[0][0]                      \n",
            "__________________________________________________________________________________________________\n",
            "dropout_1 (Dropout)             (None, 64)           0           dense_2[0][0]                    \n",
            "__________________________________________________________________________________________________\n",
            "dense_1 (Dense)                 (None, 1)            257         dropout[0][0]                    \n",
            "__________________________________________________________________________________________________\n",
            "dense_3 (Dense)                 (None, 1)            65          dropout_1[0][0]                  \n",
            "__________________________________________________________________________________________________\n",
            "concatenate (Concatenate)       (None, 2)            0           dense_1[0][0]                    \n",
            "                                                                 dense_3[0][0]                    \n",
            "__________________________________________________________________________________________________\n",
            "dense_4 (Dense)                 (None, 64)           192         concatenate[0][0]                \n",
            "__________________________________________________________________________________________________\n",
            "dropout_2 (Dropout)             (None, 64)           0           dense_4[0][0]                    \n",
            "__________________________________________________________________________________________________\n",
            "dense_5 (Dense)                 (None, 1)            65          dropout_2[0][0]                  \n",
            "==================================================================================================\n",
            "Total params: 3,469,699\n",
            "Trainable params: 3,469,699\n",
            "Non-trainable params: 0\n",
            "__________________________________________________________________________________________________\n",
            "None\n"
          ]
        }
      ],
      "source": [
        "# Combine wide and deep into one model\n",
        "merged_out = layers.concatenate([wide_model.output, deep_model.output])\n",
        "merged_out = layers.Dense(64, activation='relu')(merged_out)\n",
        "merged_out = layers.Dropout(0.3)(merged_out)\n",
        "merged_out = layers.Dense(1)(merged_out)\n",
        "combined_model = keras.Model([wide_model.input, deep_model.input], merged_out)\n",
        "combined_model.compile(loss='mse',\n",
        "                       optimizer='adam',\n",
        "                       metrics=['mse'])\n",
        "print(combined_model.summary())"
      ]
    },
    {
      "cell_type": "markdown",
      "metadata": {
        "colab_type": "text",
        "id": "RhBXWKQV2L37"
      },
      "source": [
        "Generators are used in cases where your whole training set would not fit into memory, or when you want to apply some kind of data augmentation on training time.\n",
        "\n",
        "\n",
        "In this case we are going to use it because the \"***wide***\" representation (bags of words) of all the training examples at the same time would take all of the memory allocated by Google colab.\n",
        "\n",
        "Also note that at training time we will all *process_comments*, which will create the Bag Of Words and sequences of words to send to the Embedding layer. Naturally, this will slow down the training a little bit (we could actually pre-calculate the sequences to speed up)."
      ]
    },
    {
      "cell_type": "code",
      "execution_count": 12,
      "metadata": {
        "colab": {},
        "colab_type": "code",
        "id": "7lPOuL7lXCLJ"
      },
      "outputs": [],
      "source": [
        "def process_comments(comments, tokenize, max_seq_length):\n",
        "    # Create the Bag Of Words and the embed version of only this\n",
        "    # batch of examples. \n",
        "    # This is to avoid using all the memory at the same time\n",
        "    bow = tokenize.texts_to_matrix(comments)\n",
        "    embed = tokenize.texts_to_sequences(comments)\n",
        "    embed = keras.preprocessing.sequence.pad_sequences(\n",
        "        embed, maxlen=max_seq_length, padding=\"post\"\n",
        "    )\n",
        "    return [bow, embed]\n",
        "  \n",
        "# Create the generator for fit and evaluate\n",
        "def generator(comments_list, labels_list, batch_size, tokenize, max_seq_length):\n",
        "    batch_number = 0\n",
        "    data_set_len = len(comments_list)\n",
        "    batches_per_epoch = int(data_set_len/batch_size)\n",
        "\n",
        "    while True:\n",
        "        initial = (batch_number*batch_size) % data_set_len\n",
        "        final = initial + batch_size\n",
        "        comments_to_send = comments_list[initial:final]\n",
        "\n",
        "        x = process_comments(comments_to_send, tokenize, max_seq_length) \n",
        "        y = labels_list[initial:final]\n",
        "\n",
        "        batch_number = (batch_number+1) % batches_per_epoch\n",
        "        yield x, y"
      ]
    },
    {
      "cell_type": "markdown",
      "metadata": {
        "colab_type": "text",
        "id": "vwaUn2821kuB"
      },
      "source": [
        "Another thing we will do before starting the training, we will define a callback function, which means, a function that will be called after each epoch ends. \n",
        "\n",
        "What we want is to test the partially trained model to check how it is predicting the score of the test set."
      ]
    },
    {
      "cell_type": "code",
      "execution_count": 13,
      "metadata": {
        "colab": {},
        "colab_type": "code",
        "id": "TtAxOuVN1fj-"
      },
      "outputs": [],
      "source": [
        "def on_epoch_end(epoch, logs, print_preditions=0):\n",
        "    # Generate predictions\n",
        "    predictions = combined_model.predict_generator(\n",
        "        generator(comments_test, labels_test, 128, tokenize, max_seq_length),\n",
        "        steps=int(len(comments_test)/128)\n",
        "    )\n",
        "\n",
        "    # Compare predictions with actual values for the first few items in our test dataset\n",
        "    diff = 0\n",
        "    printed = 0\n",
        "    for i in range(len(predictions)):\n",
        "        val = predictions[i]\n",
        "        if print_preditions and printed < print_preditions:\n",
        "            print(comments_test.iloc[i])\n",
        "            print('Predicted: ', val[0], 'Actual: ', labels_test.iloc[i], '\\n')\n",
        "            printed += 1\n",
        "        diff += abs(val[0] - labels_test.iloc[i])\n",
        "\n",
        "    # Compare the average difference between actual price and the model's predicted price\n",
        "    print('\\nEpoch: %d. Average prediction difference: %0.4f\\n' %\n",
        "            (epoch+1, diff/len(predictions)))\n",
        "    \n",
        "\n",
        "print_callback = keras.callbacks.LambdaCallback(on_epoch_end=on_epoch_end)"
      ]
    },
    {
      "cell_type": "markdown",
      "metadata": {
        "colab_type": "text",
        "id": "sl7GLSpO28Bt"
      },
      "source": [
        "Since we are going to use generators, we use Model.fit_generator instead of Model.fit.\n",
        "\n",
        "Please note that the generator is responsible to yield both the inputs and the expected labels of each batch. \n",
        "\n",
        "We are also sending validation_data, so the model will get evaluated after each epoch, printing the loss and accuracy of the test set (val_loss, val_acc).\n",
        "\n",
        "Finally, we send the callback we created a couple of steps before, so it will execute *on_epoch_end* every epoch."
      ]
    },
    {
      "cell_type": "code",
      "execution_count": 14,
      "metadata": {
        "colab": {
          "base_uri": "https://localhost:8080/",
          "height": 629
        },
        "colab_type": "code",
        "id": "6pNmVr42HE1T",
        "outputId": "5ebb40c2-023a-496d-9785-fe17ac0b880e"
      },
      "outputs": [
        {
          "name": "stdout",
          "output_type": "stream",
          "text": [
            "Epoch 1/10\n",
            "20/20 [==============================] - 2s 80ms/step - loss: 4848.0876 - mean_squared_error: 4848.0874 - val_loss: 3977.7339 - val_mean_squared_error: 3977.7339\n",
            "Epoch 2/10\n",
            "20/20 [==============================] - 1s 36ms/step - loss: 2726.8319 - mean_squared_error: 2726.8318 - val_loss: 717.4825 - val_mean_squared_error: 717.4825\n",
            "Epoch 3/10\n",
            "20/20 [==============================] - 1s 35ms/step - loss: 550.8467 - mean_squared_error: 550.8467 - val_loss: 161.2980 - val_mean_squared_error: 161.2980\n",
            "Epoch 4/10\n",
            "20/20 [==============================] - 1s 36ms/step - loss: 358.2492 - mean_squared_error: 358.2492 - val_loss: 133.0131 - val_mean_squared_error: 133.0131\n",
            "Epoch 5/10\n",
            "20/20 [==============================] - 1s 36ms/step - loss: 343.3575 - mean_squared_error: 343.3575 - val_loss: 116.5912 - val_mean_squared_error: 116.5912\n",
            "Epoch 6/10\n",
            "20/20 [==============================] - 1s 36ms/step - loss: 320.4221 - mean_squared_error: 320.4222 - val_loss: 117.7180 - val_mean_squared_error: 117.7180\n",
            "Epoch 7/10\n",
            "20/20 [==============================] - 1s 38ms/step - loss: 311.6116 - mean_squared_error: 311.6116 - val_loss: 119.2115 - val_mean_squared_error: 119.2115\n",
            "Epoch 8/10\n",
            "20/20 [==============================] - 1s 37ms/step - loss: 280.1702 - mean_squared_error: 280.1702 - val_loss: 117.1624 - val_mean_squared_error: 117.1624\n",
            "Epoch 9/10\n",
            "20/20 [==============================] - 1s 35ms/step - loss: 270.2773 - mean_squared_error: 270.2773 - val_loss: 118.3914 - val_mean_squared_error: 118.3914\n",
            "Epoch 10/10\n",
            "20/20 [==============================] - 1s 38ms/step - loss: 247.9777 - mean_squared_error: 247.9776 - val_loss: 123.6347 - val_mean_squared_error: 123.6347\n"
          ]
        },
        {
          "data": {
            "text/plain": [
              "<tensorflow.python.keras.callbacks.History at 0x1d393cd1668>"
            ]
          },
          "execution_count": 14,
          "metadata": {},
          "output_type": "execute_result"
        }
      ],
      "source": [
        "# Run training\n",
        "# It is a fairly deep network, it will take around 5 minutes per epoch\n",
        "combined_model.fit_generator(\n",
        "    generator(comments_train, labels_train, 128, tokenize, max_seq_length),\n",
        "    steps_per_epoch=int(len(comments_train)/128),\n",
        "    epochs=10,\n",
        "    validation_data=generator(comments_test, labels_test, 128, tokenize, max_seq_length),\n",
        "    validation_steps=int(len(comments_test)/128),\n",
        "    # callbacks=[print_callback]\n",
        ")"
      ]
    },
    {
      "cell_type": "markdown",
      "metadata": {
        "colab_type": "text",
        "id": "99SC_GiyMu_5"
      },
      "source": [
        "At the end, you should get an average difference of around 1.25 points per user review.\n",
        "\n",
        "Finally, we evaluate again the final, trained model, printing some of the results."
      ]
    },
    {
      "cell_type": "code",
      "execution_count": 15,
      "metadata": {},
      "outputs": [],
      "source": [
        "combined_model.save('combined_model_test_3.h5')"
      ]
    },
    {
      "cell_type": "code",
      "execution_count": 16,
      "metadata": {
        "colab": {
          "base_uri": "https://localhost:8080/",
          "height": 1108
        },
        "colab_type": "code",
        "id": "CaIMTosfXfhd",
        "outputId": "6052bdf9-ee1f-4c9a-e3c9-801ec6d88433"
      },
      "outputs": [
        {
          "name": "stdout",
          "output_type": "stream",
          "text": [
            "Dungelot: Shattered Lands takes you on an epic roguelike dungeon-crawler adventure to defeat zombie cows, splat giant evil mushrooms, and generally get back home in one piece. Deceptively simple, ever so addictive.\n",
            "Predicted:  69.22917 Actual:  78 \n",
            "\n",
            "Solve challenging cable-based puzzles and uncover what really happened to the crew of The Alabaster. Now with Hint System (for those ultra tricky puzzles).\n",
            "Predicted:  65.48518 Actual:  82 \n",
            "\n",
            "Pick your faction, Monster, strategy, and find out who gets to become King of the Undead!\n",
            "Predicted:  64.60827 Actual:  63 \n",
            "\n",
            "A truly global cricket simulation from Big Ant Studios, the leading name in authentic, realistic cricket action, Cricket 19 allows you to take control of your team, from club through national level, and lead them to T20, ODI, or Test Match glory.\n",
            "Predicted:  71.13329 Actual:  73 \n",
            "\n",
            "GUNGRAVE is back! Undead assassin Beyond the Grave returns from a 14-year slumber ready to rumble in VR. Experience this classic series like never before as you step into Grave's boots to tackle waves of enemies and massive bosses with the gunman's legendary arsenal!\n",
            "Predicted:  75.939445 Actual:  41 \n",
            "\n",
            "Master time to become the ultimate weapon! Dr. Aiden Krone has made a Time Jump across the space-time continuum - a reckless act with frightening consequences. Now, a disturbing alternate reality has evolved within the bleak and rain-soaked Alpha District.\n",
            "Predicted:  67.18915 Actual:  71 \n",
            "\n",
            "&quot;99Vidas&quot; is a &quot;beat 'em up&quot; set in a contemporary world that pays tribute to both the new and the classic in gaming industry. Brought to you in all pixelated, 16 bit-esque glory, chockfull of references to not only gaming, but all 80's and 90's pop culture.\n",
            "Predicted:  72.453575 Actual:  61 \n",
            "\n",
            "Reigns: Her Majesty is the revolutionary follow-up to the smash swipe ‘em up hit Reigns.\n",
            "Predicted:  61.92489 Actual:  81 \n",
            "\n",
            "The only aim in Rust is to survive. Everything wants you to die - the island’s wildlife and other inhabitants, the environment, other survivors. Do whatever it takes to last another night.\n",
            "Predicted:  65.19955 Actual:  69 \n",
            "\n",
            "Sequel to the highly successful Operation Flashpoint, ARMA: Combat Operations is a first person tactical military shooter on the PC with large elements of realism and simulation. This game features a blend of large-scale military conflict spread across large areas alongside the more close quartered battles.\n",
            "Predicted:  72.78045 Actual:  74 \n",
            "\n",
            "Griefhelm is an award-winning party game with lethal medieval weaponry. Skewer your friends, deflect their blows, and push your advantage in local and online multiplayer. Find some friends and cut off their heads!\n",
            "Predicted:  66.74413 Actual:  57 \n",
            "\n",
            "Guide 'Skul' on his quest to single-handedly take on the Imperial Army and rescue his King from captivity, in an action-packed rogue-lite 2D platformer for the ages.\n",
            "Predicted:  68.3929 Actual:  80 \n",
            "\n",
            "Sundered is a chaotic hand­-drawn metroidvania where you resist or embrace ancient eldritch powers, a challenging and unique take on a classic genre from the creators of Jotun, now with local co-op!\n",
            "Predicted:  72.28521 Actual:  76 \n",
            "\n",
            "SEGA’s legendary Japanese series finally comes to PC. Fight like hell through Tokyo and Osaka as junior yakuza Kiryu and Majima. Take a front row seat to 1980s life in Japan in an experience unlike anything else in video gaming, with uncapped framerates and 4K resolutions. A legend is born.\n",
            "Predicted:  70.559616 Actual:  86 \n",
            "\n",
            "In a land torn asunder by incessant warfare, it is time to assemble your own band of hardened warriors and enter the fray. Lead your men into battle, expand your realm, and claim the ultimate prize: the throne of Calradia!\n",
            "Predicted:  70.36622 Actual:  67 \n",
            "\n",
            "Out of the Park Baseball 17 - now officially licensed by MLB.com and the MLBPA - is the best baseball strategy game ever created! Guide your favorite MLB franchise to glory, play any historical season or create a fictional baseball world. Play solo or in online leagues. Own the future - rewrite the past!\n",
            "Predicted:  75.37683 Actual:  92 \n",
            "\n",
            "An epic adventure in a land of monsters, traps and magic. Journey across the deadly Shamutanti Hills and through Kharé, Cityport of Thieves. Armed with your sword and over fifty spells with weird and wonderful effects, embark on a narrative adventure of a thousand choices where every one is remembered.\n",
            "Predicted:  72.98247 Actual:  69 \n",
            "\n",
            "With awe-inspiring planetary backdrops, explosive new gems and dazzling special effects, Bejeweled 2 is more wildly addictive than ever before.\n",
            "Predicted:  64.47786 Actual:  69 \n",
            "\n",
            "Play as an Artificial Intelligence guiding a stranded xenobiologist through a beautiful and mysterious alien ocean. A non-violent sci-fi story, enter a world of wonder, fear and vulnerability, unraveling the history and ecology of an impossible planet. What will you discover together?\n",
            "Predicted:  71.57867 Actual:  78 \n",
            "\n",
            "Enter a world that’s utterly surreal and eerily familiar. Escape the mundanity of your existence in an experience that will stay with you. Mosaic is a narrative-driven modern adventure game with a story that lasts about 2-3 hours.\n",
            "Predicted:  71.33689 Actual:  63 \n",
            "\n",
            "\n",
            "Epoch: 8. Average prediction difference: 8.9236\n",
            "\n"
          ]
        }
      ],
      "source": [
        "# We manually call on_epoch_end with the trained model, but this time with \n",
        "# print_preditions=20\n",
        "# It will print 20 examples of the training set, with its predicted and actual \n",
        "# value\n",
        "on_epoch_end(7, {}, print_preditions=20)"
      ]
    },
    {
      "cell_type": "markdown",
      "metadata": {
        "colab_type": "text",
        "id": "HRGDZMHXtva9"
      },
      "source": [
        "Finally, let's try to predict the score of freshly retrieved user reviews."
      ]
    },
    {
      "cell_type": "code",
      "execution_count": 17,
      "metadata": {
        "colab": {
          "base_uri": "https://localhost:8080/",
          "height": 85
        },
        "colab_type": "code",
        "id": "So4QLtFnkr9w",
        "outputId": "7cfdc1cb-2c89-418d-ccca-4c1c1c11519a"
      },
      "outputs": [
        {
          "data": {
            "text/plain": [
              "array([[ 77.200554],\n",
              "       [113.5192  ]], dtype=float32)"
            ]
          },
          "execution_count": 17,
          "metadata": {},
          "output_type": "execute_result"
        }
      ],
      "source": [
        "# Let's try some user review of World War Z for Playstatin 4\n",
        "# https://www.metacritic.com/game/playstation-4/world-war-z/user-reviews\n",
        "test_comments = [\n",
        "    \"From the creator of Pony Island and The Hex comes the latest mind melting, self-destructing love letter to video games. Inscryption is an inky black card-based odyssey that blends the deckbuilding roguelike, escape-room style puzzles, and psychological horror into a blood-laced smoothie. Darker still are the secrets inscrybed upon the cards...\\\n",
        "In Inscryption you will...\\\n",
        "Acquire a deck of woodland creature cards by draft, surgery, and self mutilation\\\n",
        "Unlock the secrets lurking behind the walls of Leshy's cabin\\\n",
        "Embark on an unexpected and deeply disturbing odyssey\",\n",
        "    \"Pre-order Age of Empires IV now and get the Age of Empires II: Definitive Edition “Dawn of the Dukes” expansion as a free bonus in August 2021*.\\\n",
        "One of the most beloved real-time strategy games returns to glory with Age of Empires IV, putting you at the center of epic historical battles that shaped the world. Featuring both familiar and innovative new ways to expand your empire in vast landscapes with stunning 4K visual fidelity, Age of Empires IV brings an evolved real-time strategy game to a new generation.\\\n",
        "Return to History – The past is prologue as you are immersed in a rich historical setting of 8 diverse civilizations across the world from the English to the Chinese to the Delhi Sultanate in your quest for victory. Build cities, manage resources, and lead your troops to battle on land and at sea in 4 distinct campaigns with 35 missions that span across 500 years of history from the Dark Ages up to the Renaissance.\\\n",
        "Choose Your Path to Greatness with Historical Figures – Live the adventures of Joan of Arc in her quest to defeat the English, or command mighty Mongol troops as Genghis Khan in his conquest across Asia. The choice is yours – and every decision you make will determine the outcome of history.\\\n",
        "Customize Your Game with Mods – Available in Early 2022, play how you want with user generated content tools for custom games.\\\n",
        "Challenge the World – Jump online to compete, cooperate or spectate with up to 7 of your friends in PVP and PVE multiplayer modes.\\\n",
        "An Age for All Players – Age of Empires IV is an inviting experience for new players with a tutorial system that teaches the essence of real-time strategy and a Campaign Story Mode designed for first time players to help achieve easy setup and success, yet is challenging enough for veteran players with new game mechanics, evolved strategies, and combat techniques.\\\n",
        "*Expansion bonus requires Age of Empires II: Definitive Edition game, sold separately. Valid for pre-orders via Steam, Microsoft Store, and participating retailers. Content requires broadband internet to download. See retailer for details.\"\n",
        "]\n",
        "# The scores are \n",
        "# 82\n",
        "# 83\n",
        "\n",
        "combined_model.predict(process_comments(test_comments, tokenize, max_seq_length))"
      ]
    },
    {
      "cell_type": "code",
      "execution_count": null,
      "metadata": {
        "colab": {},
        "colab_type": "code",
        "id": "RImzr8B56GQy"
      },
      "outputs": [],
      "source": []
    }
  ],
  "metadata": {
    "accelerator": "GPU",
    "colab": {
      "collapsed_sections": [],
      "include_colab_link": true,
      "name": "metacritic_user_scores",
      "provenance": [],
      "version": "0.3.2"
    },
    "interpreter": {
      "hash": "79264824c40396a64d10485446bbc394f17a77ecfe3bed33e1bfdf8fe75a4647"
    },
    "kernelspec": {
      "display_name": "Python 3.6.10 64-bit ('PythonData': conda)",
      "name": "python3"
    },
    "language_info": {
      "codemirror_mode": {
        "name": "ipython",
        "version": 3
      },
      "file_extension": ".py",
      "mimetype": "text/x-python",
      "name": "python",
      "nbconvert_exporter": "python",
      "pygments_lexer": "ipython3",
      "version": "3.6.10"
    }
  },
  "nbformat": 4,
  "nbformat_minor": 0
}
